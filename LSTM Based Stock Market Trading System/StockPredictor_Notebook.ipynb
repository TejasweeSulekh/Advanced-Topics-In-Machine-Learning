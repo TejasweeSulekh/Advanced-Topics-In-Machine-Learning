{
  "nbformat": 4,
  "nbformat_minor": 0,
  "metadata": {
    "colab": {
      "provenance": []
    },
    "kernelspec": {
      "name": "python3",
      "display_name": "Python 3"
    },
    "language_info": {
      "name": "python"
    }
  },
  "cells": [
    {
      "cell_type": "markdown",
      "source": [
        "## Loading the dataset from drive"
      ],
      "metadata": {
        "id": "Ri2RWw1zKwNW"
      }
    },
    {
      "cell_type": "code",
      "execution_count": 3,
      "metadata": {
        "id": "BRBASK3kWGkp"
      },
      "outputs": [],
      "source": [
        "# imports\n",
        "import numpy as np\n",
        "import pandas as pd\n",
        "import matplotlib.pyplot as plt\n",
        "import os"
      ]
    },
    {
      "cell_type": "code",
      "source": [
        "# Import the zipfile library\n",
        "import zipfile\n",
        "\n",
        "# Mount Google Drive\n",
        "from google.colab import drive\n",
        "drive.mount('/content/gdrive')\n",
        "\n",
        "# Get the path to the zip file\n",
        "zip_file_path = '/content/gdrive/My Drive/AML_Assignment1/sp500_tickers_AD_1min_1pppix.zip'\n",
        "\n",
        "# Unzip the file\n",
        "with zipfile.ZipFile(zip_file_path, 'r') as zip_file:\n",
        "  zip_file.extractall('/content/my_unzipped_folder')\n"
      ],
      "metadata": {
        "colab": {
          "base_uri": "https://localhost:8080/"
        },
        "id": "WIdAXVpSq5Sp",
        "outputId": "16daee92-8f2a-4aca-8e0d-2a848a991edf"
      },
      "execution_count": 4,
      "outputs": [
        {
          "output_type": "stream",
          "name": "stdout",
          "text": [
            "Mounted at /content/gdrive\n"
          ]
        }
      ]
    },
    {
      "cell_type": "code",
      "source": [
        "# Get the path to the folder containing the .txt files\n",
        "folder_path = '/content/my_unzipped_folder/sp500_tickers_A-D_1min_1pppix/AAL_1min.txt'"
      ],
      "metadata": {
        "id": "aNK1CgNSrKL0"
      },
      "execution_count": 5,
      "outputs": []
    },
    {
      "cell_type": "markdown",
      "source": [
        "## Familiarizing myself with the data"
      ],
      "metadata": {
        "id": "laKCsjCyIXLM"
      }
    },
    {
      "cell_type": "markdown",
      "source": [
        "### Printing the dataframe"
      ],
      "metadata": {
        "id": "wFNG0jsZIa0X"
      }
    },
    {
      "cell_type": "code",
      "source": [
        "data = pd.read_csv(folder_path)[:]\n",
        "df = pd.DataFrame(data,)\n",
        "df.columns =[\"date_time\", \"Open\", \"High\", \"Low\", \"Close\", \"Volume\"]\n",
        "\n",
        "# Convert the date_time column to a datetime dtype\n",
        "df.index = pd.to_datetime(df['date_time'])\n",
        "\n",
        "print(df)"
      ],
      "metadata": {
        "id": "765C5RSfvN8l",
        "colab": {
          "base_uri": "https://localhost:8080/"
        },
        "outputId": "3c196937-b44c-40c1-8c72-6e5fa1617e2b"
      },
      "execution_count": 16,
      "outputs": [
        {
          "output_type": "stream",
          "name": "stdout",
          "text": [
            "                               date_time     Open     High      Low    Close  \\\n",
            "date_time                                                                      \n",
            "2013-12-09 08:37:00  2013-12-09 08:37:00  22.6258  22.6258  22.5787  22.5787   \n",
            "2013-12-09 08:38:00  2013-12-09 08:38:00  22.3901  22.3901  22.3901  22.3901   \n",
            "2013-12-09 08:39:00  2013-12-09 08:39:00  22.1544  22.1544  22.1544  22.1544   \n",
            "2013-12-09 08:40:00  2013-12-09 08:40:00  22.3430  22.3430  22.3335  22.3335   \n",
            "2013-12-09 08:41:00  2013-12-09 08:41:00  22.3335  22.3335  22.3335  22.3335   \n",
            "...                                  ...      ...      ...      ...      ...   \n",
            "2022-02-25 19:54:00  2022-02-25 19:54:00  17.4700  17.4700  17.4700  17.4700   \n",
            "2022-02-25 19:55:00  2022-02-25 19:55:00  17.4700  17.4900  17.4700  17.4900   \n",
            "2022-02-25 19:57:00  2022-02-25 19:57:00  17.4800  17.4900  17.4800  17.4900   \n",
            "2022-02-25 19:58:00  2022-02-25 19:58:00  17.4800  17.4900  17.4799  17.4900   \n",
            "2022-02-25 19:59:00  2022-02-25 19:59:00  17.4800  17.4900  17.4800  17.4900   \n",
            "\n",
            "                     Volume  \n",
            "date_time                    \n",
            "2013-12-09 08:37:00   37500  \n",
            "2013-12-09 08:38:00    1200  \n",
            "2013-12-09 08:39:00     600  \n",
            "2013-12-09 08:40:00     250  \n",
            "2013-12-09 08:41:00     700  \n",
            "...                     ...  \n",
            "2022-02-25 19:54:00     130  \n",
            "2022-02-25 19:55:00     741  \n",
            "2022-02-25 19:57:00     368  \n",
            "2022-02-25 19:58:00   10517  \n",
            "2022-02-25 19:59:00   13317  \n",
            "\n",
            "[1041289 rows x 6 columns]\n"
          ]
        }
      ]
    },
    {
      "cell_type": "markdown",
      "source": [
        "This is the dataframe containing the stock dataset min-by-min"
      ],
      "metadata": {
        "id": "ApIGVYpSuMeT"
      }
    },
    {
      "cell_type": "markdown",
      "source": [
        "### Plotting minute by minute"
      ],
      "metadata": {
        "id": "VY0D956gIdrP"
      }
    },
    {
      "cell_type": "code",
      "source": [
        "#Plotting datetime vs closing value\n",
        "plt.plot(df.index, df['Close'])"
      ],
      "metadata": {
        "colab": {
          "base_uri": "https://localhost:8080/",
          "height": 453
        },
        "id": "AVQNVsKU_CRF",
        "outputId": "172a8097-8bf9-4582-b3f5-ba4f45aa621a"
      },
      "execution_count": 17,
      "outputs": [
        {
          "output_type": "execute_result",
          "data": {
            "text/plain": [
              "[<matplotlib.lines.Line2D at 0x7e8f9af81f60>]"
            ]
          },
          "metadata": {},
          "execution_count": 17
        },
        {
          "output_type": "display_data",
          "data": {
            "text/plain": [
              "<Figure size 640x480 with 1 Axes>"
            ],
            "image/png": "[encoded data removed]"
          },
          "metadata": {}
        }
      ]
    },
    {
      "cell_type": "markdown",
      "source": [
        "Plotting the dataset min-by-min"
      ],
      "metadata": {
        "id": "nRKj95ayuU6Q"
      }
    },
    {
      "cell_type": "code",
      "source": [
        "# To get the day by day dataset\n",
        "df_day = df.groupby(df['date_time'].dt.strftime('%Y/%m/%d'))['Close'].agg(['last']).reset_index()\n",
        "#Setting this dataset's indexes as date_time too\n",
        "df_day.index = pd.to_datetime(df_day['date_time'])\n",
        "\n",
        "df_day.drop(['date_time'], axis = 1, inplace = True)"
      ],
      "metadata": {
        "id": "P38DDGicxLWu"
      },
      "execution_count": 8,
      "outputs": []
    },
    {
      "cell_type": "markdown",
      "source": [
        "## Creating a day by day dataframe"
      ],
      "metadata": {
        "id": "IyR9KUEtIiGA"
      }
    },
    {
      "cell_type": "code",
      "source": [
        "#Printing the day by day dataset and plotting it\n",
        "print(df_day)\n",
        "plt.plot(df_day.index, df_day['last'])"
      ],
      "metadata": {
        "colab": {
          "base_uri": "https://localhost:8080/",
          "height": 722
        },
        "id": "mqGqVnjhuYtL",
        "outputId": "8a990224-c7e6-415c-8a06-6a8d61c7ba67"
      },
      "execution_count": 9,
      "outputs": [
        {
          "output_type": "stream",
          "name": "stdout",
          "text": [
            "               last\n",
            "date_time          \n",
            "2013-12-09  23.2386\n",
            "2013-12-10  23.4743\n",
            "2013-12-11  24.5113\n",
            "2013-12-12  24.1813\n",
            "2013-12-13  24.6527\n",
            "...             ...\n",
            "2022-02-18  17.7500\n",
            "2022-02-22  17.5600\n",
            "2022-02-23  16.5500\n",
            "2022-02-24  16.7500\n",
            "2022-02-25  17.4900\n",
            "\n",
            "[2069 rows x 1 columns]\n"
          ]
        },
        {
          "output_type": "execute_result",
          "data": {
            "text/plain": [
              "[<matplotlib.lines.Line2D at 0x7e8f9b2bee30>]"
            ]
          },
          "metadata": {},
          "execution_count": 9
        },
        {
          "output_type": "display_data",
          "data": {
            "text/plain": [
              "<Figure size 640x480 with 1 Axes>"
            ],
            "image/png": "[encoded data removed]"
          },
          "metadata": {}
        }
      ]
    },
    {
      "cell_type": "code",
      "source": [
        "!pip install --upgrade mplfinance"
      ],
      "metadata": {
        "colab": {
          "base_uri": "https://localhost:8080/"
        },
        "id": "vcruCQeI5fsP",
        "outputId": "0fa07692-7d97-42b6-96d5-05ec3e9512b6"
      },
      "execution_count": 10,
      "outputs": [
        {
          "output_type": "stream",
          "name": "stdout",
          "text": [
            "Collecting mplfinance\n",
            "  Downloading mplfinance-0.12.10b0-py3-none-any.whl (75 kB)\n",
            "\u001b[?25l     \u001b[90m━━━━━━━━━━━━━━━━━━━━━━━━━━━━━━━━━━━━━━━━\u001b[0m \u001b[32m0.0/75.0 kB\u001b[0m \u001b[31m?\u001b[0m eta \u001b[36m-:--:--\u001b[0m\r\u001b[2K     \u001b[91m━━━━━━━━━━━━━━━\u001b[0m\u001b[91m╸\u001b[0m\u001b[90m━━━━━━━━━━━━━━━━━━━━━━━\u001b[0m \u001b[32m30.7/75.0 kB\u001b[0m \u001b[31m916.7 kB/s\u001b[0m eta \u001b[36m0:00:01\u001b[0m\r\u001b[2K     \u001b[90m━━━━━━━━━━━━━━━━━━━━━━━━━━━━━━━━━━━━━━━━\u001b[0m \u001b[32m75.0/75.0 kB\u001b[0m \u001b[31m1.2 MB/s\u001b[0m eta \u001b[36m0:00:00\u001b[0m\n",
            "\u001b[?25hRequirement already satisfied: matplotlib in /usr/local/lib/python3.10/dist-packages (from mplfinance) (3.7.1)\n",
            "Requirement already satisfied: pandas in /usr/local/lib/python3.10/dist-packages (from mplfinance) (1.5.3)\n",
            "Requirement already satisfied: contourpy>=1.0.1 in /usr/local/lib/python3.10/dist-packages (from matplotlib->mplfinance) (1.1.1)\n",
            "Requirement already satisfied: cycler>=0.10 in /usr/local/lib/python3.10/dist-packages (from matplotlib->mplfinance) (0.12.0)\n",
            "Requirement already satisfied: fonttools>=4.22.0 in /usr/local/lib/python3.10/dist-packages (from matplotlib->mplfinance) (4.43.0)\n",
            "Requirement already satisfied: kiwisolver>=1.0.1 in /usr/local/lib/python3.10/dist-packages (from matplotlib->mplfinance) (1.4.5)\n",
            "Requirement already satisfied: numpy>=1.20 in /usr/local/lib/python3.10/dist-packages (from matplotlib->mplfinance) (1.23.5)\n",
            "Requirement already satisfied: packaging>=20.0 in /usr/local/lib/python3.10/dist-packages (from matplotlib->mplfinance) (23.1)\n",
            "Requirement already satisfied: pillow>=6.2.0 in /usr/local/lib/python3.10/dist-packages (from matplotlib->mplfinance) (9.4.0)\n",
            "Requirement already satisfied: pyparsing>=2.3.1 in /usr/local/lib/python3.10/dist-packages (from matplotlib->mplfinance) (3.1.1)\n",
            "Requirement already satisfied: python-dateutil>=2.7 in /usr/local/lib/python3.10/dist-packages (from matplotlib->mplfinance) (2.8.2)\n",
            "Requirement already satisfied: pytz>=2020.1 in /usr/local/lib/python3.10/dist-packages (from pandas->mplfinance) (2023.3.post1)\n",
            "Requirement already satisfied: six>=1.5 in /usr/local/lib/python3.10/dist-packages (from python-dateutil>=2.7->matplotlib->mplfinance) (1.16.0)\n",
            "Installing collected packages: mplfinance\n",
            "Successfully installed mplfinance-0.12.10b0\n"
          ]
        }
      ]
    },
    {
      "cell_type": "markdown",
      "source": [
        "## Creating a candlestick plot using matplotlibfinance"
      ],
      "metadata": {
        "id": "Y3s46RacInnY"
      }
    },
    {
      "cell_type": "code",
      "source": [
        "import mplfinance as mpf\n",
        "\n",
        "# Create the candlestick chart\n",
        "mpf.plot(df[:130], type = 'candle', volume = True)"
      ],
      "metadata": {
        "id": "a2WewhrK4M_T",
        "colab": {
          "base_uri": "https://localhost:8080/",
          "height": 484
        },
        "outputId": "84643f4b-c6a2-489b-df5f-84a8666fdf76"
      },
      "execution_count": 18,
      "outputs": [
        {
          "output_type": "display_data",
          "data": {
            "text/plain": [
              "<Figure size 800x575 with 4 Axes>"
            ],
            "image/png": "[encoded data removed]"
          },
          "metadata": {}
        }
      ]
    },
    {
      "cell_type": "markdown",
      "source": [
        "Candle plot for the min-by-min dataset"
      ],
      "metadata": {
        "id": "LMufr4i1uoco"
      }
    },
    {
      "cell_type": "markdown",
      "source": [
        "## Describing the day by day data processed so far"
      ],
      "metadata": {
        "id": "MV0Qqg8YIsAa"
      }
    },
    {
      "cell_type": "code",
      "source": [
        "df_day.describe()"
      ],
      "metadata": {
        "colab": {
          "base_uri": "https://localhost:8080/",
          "height": 300
        },
        "id": "ss4FUP2txs6L",
        "outputId": "d93e2300-aa54-4dfa-9ce6-997d8f10c757"
      },
      "execution_count": 19,
      "outputs": [
        {
          "output_type": "execute_result",
          "data": {
            "text/plain": [
              "              last\n",
              "count  2069.000000\n",
              "mean     33.445775\n",
              "std      11.411644\n",
              "min       8.940000\n",
              "25%      24.794100\n",
              "50%      35.240200\n",
              "75%      41.860700\n",
              "max      56.969200"
            ],
            "text/html": [
              "\n",
              "  <div id=\"df-1ec62733-17af-478c-9025-2d30b7c66d3e\" class=\"colab-df-container\">\n",
              "    <div>\n",
              "<style scoped>\n",
              "    .dataframe tbody tr th:only-of-type {\n",
              "        vertical-align: middle;\n",
              "    }\n",
              "\n",
              "    .dataframe tbody tr th {\n",
              "        vertical-align: top;\n",
              "    }\n",
              "\n",
              "    .dataframe thead th {\n",
              "        text-align: right;\n",
              "    }\n",
              "</style>\n",
              "<table border=\"1\" class=\"dataframe\">\n",
              "  <thead>\n",
              "    <tr style=\"text-align: right;\">\n",
              "      <th></th>\n",
              "      <th>last</th>\n",
              "    </tr>\n",
              "  </thead>\n",
              "  <tbody>\n",
              "    <tr>\n",
              "      <th>count</th>\n",
              "      <td>2069.000000</td>\n",
              "    </tr>\n",
              "    <tr>\n",
              "      <th>mean</th>\n",
              "      <td>33.445775</td>\n",
              "    </tr>\n",
              "    <tr>\n",
              "      <th>std</th>\n",
              "      <td>11.411644</td>\n",
              "    </tr>\n",
              "    <tr>\n",
              "      <th>min</th>\n",
              "      <td>8.940000</td>\n",
              "    </tr>\n",
              "    <tr>\n",
              "      <th>25%</th>\n",
              "      <td>24.794100</td>\n",
              "    </tr>\n",
              "    <tr>\n",
              "      <th>50%</th>\n",
              "      <td>35.240200</td>\n",
              "    </tr>\n",
              "    <tr>\n",
              "      <th>75%</th>\n",
              "      <td>41.860700</td>\n",
              "    </tr>\n",
              "    <tr>\n",
              "      <th>max</th>\n",
              "      <td>56.969200</td>\n",
              "    </tr>\n",
              "  </tbody>\n",
              "</table>\n",
              "</div>\n",
              "    <div class=\"colab-df-buttons\">\n",
              "\n",
              "  <div class=\"colab-df-container\">\n",
              "    <button class=\"colab-df-convert\" onclick=\"convertToInteractive('df-1ec62733-17af-478c-9025-2d30b7c66d3e')\"\n",
              "            title=\"Convert this dataframe to an interactive table.\"\n",
              "            style=\"display:none;\">\n",
              "\n",
              "  <svg xmlns=\"http://www.w3.org/2000/svg\" height=\"24px\" viewBox=\"0 -960 960 960\">\n",
              "    <path d=\"M120-120v-720h720v720H120Zm60-500h600v-160H180v160Zm220 220h160v-160H400v160Zm0 220h160v-160H400v160ZM180-400h160v-160H180v160Zm440 0h160v-160H620v160ZM180-180h160v-160H180v160Zm440 0h160v-160H620v160Z\"/>\n",
              "  </svg>\n",
              "    </button>\n",
              "\n",
              "  <style>\n",
              "    .colab-df-container {\n",
              "      display:flex;\n",
              "      gap: 12px;\n",
              "    }\n",
              "\n",
              "    .colab-df-convert {\n",
              "      background-color: #E8F0FE;\n",
              "      border: none;\n",
              "      border-radius: 50%;\n",
              "      cursor: pointer;\n",
              "      display: none;\n",
              "      fill: #1967D2;\n",
              "      height: 32px;\n",
              "      padding: 0 0 0 0;\n",
              "      width: 32px;\n",
              "    }\n",
              "\n",
              "    .colab-df-convert:hover {\n",
              "      background-color: #E2EBFA;\n",
              "      box-shadow: 0px 1px 2px rgba(60, 64, 67, 0.3), 0px 1px 3px 1px rgba(60, 64, 67, 0.15);\n",
              "      fill: #174EA6;\n",
              "    }\n",
              "\n",
              "    .colab-df-buttons div {\n",
              "      margin-bottom: 4px;\n",
              "    }\n",
              "\n",
              "    [theme=dark] .colab-df-convert {\n",
              "      background-color: #3B4455;\n",
              "      fill: #D2E3FC;\n",
              "    }\n",
              "\n",
              "    [theme=dark] .colab-df-convert:hover {\n",
              "      background-color: #434B5C;\n",
              "      box-shadow: 0px 1px 3px 1px rgba(0, 0, 0, 0.15);\n",
              "      filter: drop-shadow(0px 1px 2px rgba(0, 0, 0, 0.3));\n",
              "      fill: #FFFFFF;\n",
              "    }\n",
              "  </style>\n",
              "\n",
              "    <script>\n",
              "      const buttonEl =\n",
              "        document.querySelector('#df-1ec62733-17af-478c-9025-2d30b7c66d3e button.colab-df-convert');\n",
              "      buttonEl.style.display =\n",
              "        google.colab.kernel.accessAllowed ? 'block' : 'none';\n",
              "\n",
              "      async function convertToInteractive(key) {\n",
              "        const element = document.querySelector('#df-1ec62733-17af-478c-9025-2d30b7c66d3e');\n",
              "        const dataTable =\n",
              "          await google.colab.kernel.invokeFunction('convertToInteractive',\n",
              "                                                    [key], {});\n",
              "        if (!dataTable) return;\n",
              "\n",
              "        const docLinkHtml = 'Like what you see? Visit the ' +\n",
              "          '<a target=\"_blank\" href=https://colab.research.google.com/notebooks/data_table.ipynb>data table notebook</a>'\n",
              "          + ' to learn more about interactive tables.';\n",
              "        element.innerHTML = '';\n",
              "        dataTable['output_type'] = 'display_data';\n",
              "        await google.colab.output.renderOutput(dataTable, element);\n",
              "        const docLink = document.createElement('div');\n",
              "        docLink.innerHTML = docLinkHtml;\n",
              "        element.appendChild(docLink);\n",
              "      }\n",
              "    </script>\n",
              "  </div>\n",
              "\n",
              "\n",
              "<div id=\"df-b5cf2903-5727-457b-88d4-0e1b95359602\">\n",
              "  <button class=\"colab-df-quickchart\" onclick=\"quickchart('df-b5cf2903-5727-457b-88d4-0e1b95359602')\"\n",
              "            title=\"Suggest charts.\"\n",
              "            style=\"display:none;\">\n",
              "\n",
              "<svg xmlns=\"http://www.w3.org/2000/svg\" height=\"24px\"viewBox=\"0 0 24 24\"\n",
              "     width=\"24px\">\n",
              "    <g>\n",
              "        <path d=\"M19 3H5c-1.1 0-2 .9-2 2v14c0 1.1.9 2 2 2h14c1.1 0 2-.9 2-2V5c0-1.1-.9-2-2-2zM9 17H7v-7h2v7zm4 0h-2V7h2v10zm4 0h-2v-4h2v4z\"/>\n",
              "    </g>\n",
              "</svg>\n",
              "  </button>\n",
              "\n",
              "<style>\n",
              "  .colab-df-quickchart {\n",
              "      --bg-color: #E8F0FE;\n",
              "      --fill-color: #1967D2;\n",
              "      --hover-bg-color: #E2EBFA;\n",
              "      --hover-fill-color: #174EA6;\n",
              "      --disabled-fill-color: #AAA;\n",
              "      --disabled-bg-color: #DDD;\n",
              "  }\n",
              "\n",
              "  [theme=dark] .colab-df-quickchart {\n",
              "      --bg-color: #3B4455;\n",
              "      --fill-color: #D2E3FC;\n",
              "      --hover-bg-color: #434B5C;\n",
              "      --hover-fill-color: #FFFFFF;\n",
              "      --disabled-bg-color: #3B4455;\n",
              "      --disabled-fill-color: #666;\n",
              "  }\n",
              "\n",
              "  .colab-df-quickchart {\n",
              "    background-color: var(--bg-color);\n",
              "    border: none;\n",
              "    border-radius: 50%;\n",
              "    cursor: pointer;\n",
              "    display: none;\n",
              "    fill: var(--fill-color);\n",
              "    height: 32px;\n",
              "    padding: 0;\n",
              "    width: 32px;\n",
              "  }\n",
              "\n",
              "  .colab-df-quickchart:hover {\n",
              "    background-color: var(--hover-bg-color);\n",
              "    box-shadow: 0 1px 2px rgba(60, 64, 67, 0.3), 0 1px 3px 1px rgba(60, 64, 67, 0.15);\n",
              "    fill: var(--button-hover-fill-color);\n",
              "  }\n",
              "\n",
              "  .colab-df-quickchart-complete:disabled,\n",
              "  .colab-df-quickchart-complete:disabled:hover {\n",
              "    background-color: var(--disabled-bg-color);\n",
              "    fill: var(--disabled-fill-color);\n",
              "    box-shadow: none;\n",
              "  }\n",
              "\n",
              "  .colab-df-spinner {\n",
              "    border: 2px solid var(--fill-color);\n",
              "    border-color: transparent;\n",
              "    border-bottom-color: var(--fill-color);\n",
              "    animation:\n",
              "      spin 1s steps(1) infinite;\n",
              "  }\n",
              "\n",
              "  @keyframes spin {\n",
              "    0% {\n",
              "      border-color: transparent;\n",
              "      border-bottom-color: var(--fill-color);\n",
              "      border-left-color: var(--fill-color);\n",
              "    }\n",
              "    20% {\n",
              "      border-color: transparent;\n",
              "      border-left-color: var(--fill-color);\n",
              "      border-top-color: var(--fill-color);\n",
              "    }\n",
              "    30% {\n",
              "      border-color: transparent;\n",
              "      border-left-color: var(--fill-color);\n",
              "      border-top-color: var(--fill-color);\n",
              "      border-right-color: var(--fill-color);\n",
              "    }\n",
              "    40% {\n",
              "      border-color: transparent;\n",
              "      border-right-color: var(--fill-color);\n",
              "      border-top-color: var(--fill-color);\n",
              "    }\n",
              "    60% {\n",
              "      border-color: transparent;\n",
              "      border-right-color: var(--fill-color);\n",
              "    }\n",
              "    80% {\n",
              "      border-color: transparent;\n",
              "      border-right-color: var(--fill-color);\n",
              "      border-bottom-color: var(--fill-color);\n",
              "    }\n",
              "    90% {\n",
              "      border-color: transparent;\n",
              "      border-bottom-color: var(--fill-color);\n",
              "    }\n",
              "  }\n",
              "</style>\n",
              "\n",
              "  <script>\n",
              "    async function quickchart(key) {\n",
              "      const quickchartButtonEl =\n",
              "        document.querySelector('#' + key + ' button');\n",
              "      quickchartButtonEl.disabled = true;  // To prevent multiple clicks.\n",
              "      quickchartButtonEl.classList.add('colab-df-spinner');\n",
              "      try {\n",
              "        const charts = await google.colab.kernel.invokeFunction(\n",
              "            'suggestCharts', [key], {});\n",
              "      } catch (error) {\n",
              "        console.error('Error during call to suggestCharts:', error);\n",
              "      }\n",
              "      quickchartButtonEl.classList.remove('colab-df-spinner');\n",
              "      quickchartButtonEl.classList.add('colab-df-quickchart-complete');\n",
              "    }\n",
              "    (() => {\n",
              "      let quickchartButtonEl =\n",
              "        document.querySelector('#df-b5cf2903-5727-457b-88d4-0e1b95359602 button');\n",
              "      quickchartButtonEl.style.display =\n",
              "        google.colab.kernel.accessAllowed ? 'block' : 'none';\n",
              "    })();\n",
              "  </script>\n",
              "</div>\n",
              "    </div>\n",
              "  </div>\n"
            ]
          },
          "metadata": {},
          "execution_count": 19
        }
      ]
    },
    {
      "cell_type": "markdown",
      "source": [
        "We can see that this data is not normalized and we will be using minmax scaling to normalize this dataset"
      ],
      "metadata": {
        "id": "_7e-bASSIwwe"
      }
    },
    {
      "cell_type": "markdown",
      "source": [
        "Another method for Normalizing can be log normalization that is\n",
        "$y = log(x)$"
      ],
      "metadata": {
        "id": "cjQHLwkewgth"
      }
    },
    {
      "cell_type": "code",
      "source": [
        "norm_dat = pd.DataFrame(np.log(df_day.values))\n",
        "norm_dat.describe()"
      ],
      "metadata": {
        "colab": {
          "base_uri": "https://localhost:8080/",
          "height": 300
        },
        "id": "mdK9_WHYwVLC",
        "outputId": "ae77442c-89c7-41c1-a7f7-ac48c309cee2"
      },
      "execution_count": 20,
      "outputs": [
        {
          "output_type": "execute_result",
          "data": {
            "text/plain": [
              "                 0\n",
              "count  2069.000000\n",
              "mean      3.435474\n",
              "std       0.414482\n",
              "min       2.190536\n",
              "25%       3.210606\n",
              "50%       3.562187\n",
              "75%       3.734347\n",
              "max       4.042511"
            ],
            "text/html": [
              "\n",
              "  <div id=\"df-1cfb7a53-9f6d-46c5-b8e6-90dc239bf6ad\" class=\"colab-df-container\">\n",
              "    <div>\n",
              "<style scoped>\n",
              "    .dataframe tbody tr th:only-of-type {\n",
              "        vertical-align: middle;\n",
              "    }\n",
              "\n",
              "    .dataframe tbody tr th {\n",
              "        vertical-align: top;\n",
              "    }\n",
              "\n",
              "    .dataframe thead th {\n",
              "        text-align: right;\n",
              "    }\n",
              "</style>\n",
              "<table border=\"1\" class=\"dataframe\">\n",
              "  <thead>\n",
              "    <tr style=\"text-align: right;\">\n",
              "      <th></th>\n",
              "      <th>0</th>\n",
              "    </tr>\n",
              "  </thead>\n",
              "  <tbody>\n",
              "    <tr>\n",
              "      <th>count</th>\n",
              "      <td>2069.000000</td>\n",
              "    </tr>\n",
              "    <tr>\n",
              "      <th>mean</th>\n",
              "      <td>3.435474</td>\n",
              "    </tr>\n",
              "    <tr>\n",
              "      <th>std</th>\n",
              "      <td>0.414482</td>\n",
              "    </tr>\n",
              "    <tr>\n",
              "      <th>min</th>\n",
              "      <td>2.190536</td>\n",
              "    </tr>\n",
              "    <tr>\n",
              "      <th>25%</th>\n",
              "      <td>3.210606</td>\n",
              "    </tr>\n",
              "    <tr>\n",
              "      <th>50%</th>\n",
              "      <td>3.562187</td>\n",
              "    </tr>\n",
              "    <tr>\n",
              "      <th>75%</th>\n",
              "      <td>3.734347</td>\n",
              "    </tr>\n",
              "    <tr>\n",
              "      <th>max</th>\n",
              "      <td>4.042511</td>\n",
              "    </tr>\n",
              "  </tbody>\n",
              "</table>\n",
              "</div>\n",
              "    <div class=\"colab-df-buttons\">\n",
              "\n",
              "  <div class=\"colab-df-container\">\n",
              "    <button class=\"colab-df-convert\" onclick=\"convertToInteractive('df-1cfb7a53-9f6d-46c5-b8e6-90dc239bf6ad')\"\n",
              "            title=\"Convert this dataframe to an interactive table.\"\n",
              "            style=\"display:none;\">\n",
              "\n",
              "  <svg xmlns=\"http://www.w3.org/2000/svg\" height=\"24px\" viewBox=\"0 -960 960 960\">\n",
              "    <path d=\"M120-120v-720h720v720H120Zm60-500h600v-160H180v160Zm220 220h160v-160H400v160Zm0 220h160v-160H400v160ZM180-400h160v-160H180v160Zm440 0h160v-160H620v160ZM180-180h160v-160H180v160Zm440 0h160v-160H620v160Z\"/>\n",
              "  </svg>\n",
              "    </button>\n",
              "\n",
              "  <style>\n",
              "    .colab-df-container {\n",
              "      display:flex;\n",
              "      gap: 12px;\n",
              "    }\n",
              "\n",
              "    .colab-df-convert {\n",
              "      background-color: #E8F0FE;\n",
              "      border: none;\n",
              "      border-radius: 50%;\n",
              "      cursor: pointer;\n",
              "      display: none;\n",
              "      fill: #1967D2;\n",
              "      height: 32px;\n",
              "      padding: 0 0 0 0;\n",
              "      width: 32px;\n",
              "    }\n",
              "\n",
              "    .colab-df-convert:hover {\n",
              "      background-color: #E2EBFA;\n",
              "      box-shadow: 0px 1px 2px rgba(60, 64, 67, 0.3), 0px 1px 3px 1px rgba(60, 64, 67, 0.15);\n",
              "      fill: #174EA6;\n",
              "    }\n",
              "\n",
              "    .colab-df-buttons div {\n",
              "      margin-bottom: 4px;\n",
              "    }\n",
              "\n",
              "    [theme=dark] .colab-df-convert {\n",
              "      background-color: #3B4455;\n",
              "      fill: #D2E3FC;\n",
              "    }\n",
              "\n",
              "    [theme=dark] .colab-df-convert:hover {\n",
              "      background-color: #434B5C;\n",
              "      box-shadow: 0px 1px 3px 1px rgba(0, 0, 0, 0.15);\n",
              "      filter: drop-shadow(0px 1px 2px rgba(0, 0, 0, 0.3));\n",
              "      fill: #FFFFFF;\n",
              "    }\n",
              "  </style>\n",
              "\n",
              "    <script>\n",
              "      const buttonEl =\n",
              "        document.querySelector('#df-1cfb7a53-9f6d-46c5-b8e6-90dc239bf6ad button.colab-df-convert');\n",
              "      buttonEl.style.display =\n",
              "        google.colab.kernel.accessAllowed ? 'block' : 'none';\n",
              "\n",
              "      async function convertToInteractive(key) {\n",
              "        const element = document.querySelector('#df-1cfb7a53-9f6d-46c5-b8e6-90dc239bf6ad');\n",
              "        const dataTable =\n",
              "          await google.colab.kernel.invokeFunction('convertToInteractive',\n",
              "                                                    [key], {});\n",
              "        if (!dataTable) return;\n",
              "\n",
              "        const docLinkHtml = 'Like what you see? Visit the ' +\n",
              "          '<a target=\"_blank\" href=https://colab.research.google.com/notebooks/data_table.ipynb>data table notebook</a>'\n",
              "          + ' to learn more about interactive tables.';\n",
              "        element.innerHTML = '';\n",
              "        dataTable['output_type'] = 'display_data';\n",
              "        await google.colab.output.renderOutput(dataTable, element);\n",
              "        const docLink = document.createElement('div');\n",
              "        docLink.innerHTML = docLinkHtml;\n",
              "        element.appendChild(docLink);\n",
              "      }\n",
              "    </script>\n",
              "  </div>\n",
              "\n",
              "\n",
              "<div id=\"df-2f379937-1a69-4711-a583-d964c3ae03d6\">\n",
              "  <button class=\"colab-df-quickchart\" onclick=\"quickchart('df-2f379937-1a69-4711-a583-d964c3ae03d6')\"\n",
              "            title=\"Suggest charts.\"\n",
              "            style=\"display:none;\">\n",
              "\n",
              "<svg xmlns=\"http://www.w3.org/2000/svg\" height=\"24px\"viewBox=\"0 0 24 24\"\n",
              "     width=\"24px\">\n",
              "    <g>\n",
              "        <path d=\"M19 3H5c-1.1 0-2 .9-2 2v14c0 1.1.9 2 2 2h14c1.1 0 2-.9 2-2V5c0-1.1-.9-2-2-2zM9 17H7v-7h2v7zm4 0h-2V7h2v10zm4 0h-2v-4h2v4z\"/>\n",
              "    </g>\n",
              "</svg>\n",
              "  </button>\n",
              "\n",
              "<style>\n",
              "  .colab-df-quickchart {\n",
              "      --bg-color: #E8F0FE;\n",
              "      --fill-color: #1967D2;\n",
              "      --hover-bg-color: #E2EBFA;\n",
              "      --hover-fill-color: #174EA6;\n",
              "      --disabled-fill-color: #AAA;\n",
              "      --disabled-bg-color: #DDD;\n",
              "  }\n",
              "\n",
              "  [theme=dark] .colab-df-quickchart {\n",
              "      --bg-color: #3B4455;\n",
              "      --fill-color: #D2E3FC;\n",
              "      --hover-bg-color: #434B5C;\n",
              "      --hover-fill-color: #FFFFFF;\n",
              "      --disabled-bg-color: #3B4455;\n",
              "      --disabled-fill-color: #666;\n",
              "  }\n",
              "\n",
              "  .colab-df-quickchart {\n",
              "    background-color: var(--bg-color);\n",
              "    border: none;\n",
              "    border-radius: 50%;\n",
              "    cursor: pointer;\n",
              "    display: none;\n",
              "    fill: var(--fill-color);\n",
              "    height: 32px;\n",
              "    padding: 0;\n",
              "    width: 32px;\n",
              "  }\n",
              "\n",
              "  .colab-df-quickchart:hover {\n",
              "    background-color: var(--hover-bg-color);\n",
              "    box-shadow: 0 1px 2px rgba(60, 64, 67, 0.3), 0 1px 3px 1px rgba(60, 64, 67, 0.15);\n",
              "    fill: var(--button-hover-fill-color);\n",
              "  }\n",
              "\n",
              "  .colab-df-quickchart-complete:disabled,\n",
              "  .colab-df-quickchart-complete:disabled:hover {\n",
              "    background-color: var(--disabled-bg-color);\n",
              "    fill: var(--disabled-fill-color);\n",
              "    box-shadow: none;\n",
              "  }\n",
              "\n",
              "  .colab-df-spinner {\n",
              "    border: 2px solid var(--fill-color);\n",
              "    border-color: transparent;\n",
              "    border-bottom-color: var(--fill-color);\n",
              "    animation:\n",
              "      spin 1s steps(1) infinite;\n",
              "  }\n",
              "\n",
              "  @keyframes spin {\n",
              "    0% {\n",
              "      border-color: transparent;\n",
              "      border-bottom-color: var(--fill-color);\n",
              "      border-left-color: var(--fill-color);\n",
              "    }\n",
              "    20% {\n",
              "      border-color: transparent;\n",
              "      border-left-color: var(--fill-color);\n",
              "      border-top-color: var(--fill-color);\n",
              "    }\n",
              "    30% {\n",
              "      border-color: transparent;\n",
              "      border-left-color: var(--fill-color);\n",
              "      border-top-color: var(--fill-color);\n",
              "      border-right-color: var(--fill-color);\n",
              "    }\n",
              "    40% {\n",
              "      border-color: transparent;\n",
              "      border-right-color: var(--fill-color);\n",
              "      border-top-color: var(--fill-color);\n",
              "    }\n",
              "    60% {\n",
              "      border-color: transparent;\n",
              "      border-right-color: var(--fill-color);\n",
              "    }\n",
              "    80% {\n",
              "      border-color: transparent;\n",
              "      border-right-color: var(--fill-color);\n",
              "      border-bottom-color: var(--fill-color);\n",
              "    }\n",
              "    90% {\n",
              "      border-color: transparent;\n",
              "      border-bottom-color: var(--fill-color);\n",
              "    }\n",
              "  }\n",
              "</style>\n",
              "\n",
              "  <script>\n",
              "    async function quickchart(key) {\n",
              "      const quickchartButtonEl =\n",
              "        document.querySelector('#' + key + ' button');\n",
              "      quickchartButtonEl.disabled = true;  // To prevent multiple clicks.\n",
              "      quickchartButtonEl.classList.add('colab-df-spinner');\n",
              "      try {\n",
              "        const charts = await google.colab.kernel.invokeFunction(\n",
              "            'suggestCharts', [key], {});\n",
              "      } catch (error) {\n",
              "        console.error('Error during call to suggestCharts:', error);\n",
              "      }\n",
              "      quickchartButtonEl.classList.remove('colab-df-spinner');\n",
              "      quickchartButtonEl.classList.add('colab-df-quickchart-complete');\n",
              "    }\n",
              "    (() => {\n",
              "      let quickchartButtonEl =\n",
              "        document.querySelector('#df-2f379937-1a69-4711-a583-d964c3ae03d6 button');\n",
              "      quickchartButtonEl.style.display =\n",
              "        google.colab.kernel.accessAllowed ? 'block' : 'none';\n",
              "    })();\n",
              "  </script>\n",
              "</div>\n",
              "    </div>\n",
              "  </div>\n"
            ]
          },
          "metadata": {},
          "execution_count": 20
        }
      ]
    },
    {
      "cell_type": "markdown",
      "source": [
        "What we can get after log normalization"
      ],
      "metadata": {
        "id": "rNdJfAP9I43m"
      }
    },
    {
      "cell_type": "markdown",
      "source": [
        "We will be using z-score normalization as it is easy to implement and usefull\n",
        "along with minmax() scaling"
      ],
      "metadata": {
        "id": "5f9Vkklrv61L"
      }
    },
    {
      "cell_type": "code",
      "source": [
        "#Importing pytorch\n",
        "import torch\n",
        "import torch.nn as nn\n",
        "from copy import deepcopy as dc\n",
        "\n",
        "# Defining a function to prepare data for lstms\n",
        "def prepare_dataframe_for_lstm(df, n_steps):\n",
        "  dff = dc(df)\n",
        "  for i in range(1, n_steps+1):\n",
        "    dff[f'last(t-{i})'] = dff['last'].shift(i)\n",
        "  dff.dropna(inplace=True)\n",
        "  return dff\n",
        "#How far we are looping to predict\n",
        "lookback = 10\n",
        "shifted_df = prepare_dataframe_for_lstm(df_day, lookback)\n",
        "# shifted_df.drop(['High', 'Low', 'Volume'], axis = 1, inplace = True)\n",
        "shifted_df"
      ],
      "metadata": {
        "colab": {
          "base_uri": "https://localhost:8080/",
          "height": 455
        },
        "id": "Etand5IV6GMF",
        "outputId": "55ee8dd2-b9ef-4bed-c988-9f937cde7b5d"
      },
      "execution_count": 21,
      "outputs": [
        {
          "output_type": "execute_result",
          "data": {
            "text/plain": [
              "               last  last(t-1)  last(t-2)  last(t-3)  last(t-4)  last(t-5)  \\\n",
              "date_time                                                                    \n",
              "2013-12-23  24.6244    24.9355    24.7941    24.7281    24.6244    25.0486   \n",
              "2013-12-24  24.7470    24.6244    24.9355    24.7941    24.7281    24.6244   \n",
              "2013-12-26  24.5490    24.7470    24.6244    24.9355    24.7941    24.7281   \n",
              "2013-12-27  23.5685    24.5490    24.7470    24.6244    24.9355    24.7941   \n",
              "2013-12-30  23.3611    23.5685    24.5490    24.7470    24.6244    24.9355   \n",
              "...             ...        ...        ...        ...        ...        ...   \n",
              "2022-02-18  17.7500    18.1900    18.7400    18.7799    17.4500    17.6000   \n",
              "2022-02-22  17.5600    17.7500    18.1900    18.7400    18.7799    17.4500   \n",
              "2022-02-23  16.5500    17.5600    17.7500    18.1900    18.7400    18.7799   \n",
              "2022-02-24  16.7500    16.5500    17.5600    17.7500    18.1900    18.7400   \n",
              "2022-02-25  17.4900    16.7500    16.5500    17.5600    17.7500    18.1900   \n",
              "\n",
              "            last(t-6)  last(t-7)  last(t-8)  last(t-9)  last(t-10)  \n",
              "date_time                                                           \n",
              "2013-12-23    24.6527    24.1813    24.5113    23.4743     23.2386  \n",
              "2013-12-24    25.0486    24.6527    24.1813    24.5113     23.4743  \n",
              "2013-12-26    24.6244    25.0486    24.6527    24.1813     24.5113  \n",
              "2013-12-27    24.7281    24.6244    25.0486    24.6527     24.1813  \n",
              "2013-12-30    24.7941    24.7281    24.6244    25.0486     24.6527  \n",
              "...               ...        ...        ...        ...         ...  \n",
              "2022-02-18    18.5200    18.8000    18.3000    17.3500     16.4700  \n",
              "2022-02-22    17.6000    18.5200    18.8000    18.3000     17.3500  \n",
              "2022-02-23    17.4500    17.6000    18.5200    18.8000     18.3000  \n",
              "2022-02-24    18.7799    17.4500    17.6000    18.5200     18.8000  \n",
              "2022-02-25    18.7400    18.7799    17.4500    17.6000     18.5200  \n",
              "\n",
              "[2059 rows x 11 columns]"
            ],
            "text/html": [
              "\n",
              "  <div id=\"df-2eb3e4d2-2620-49d8-b641-78f0965dd190\" class=\"colab-df-container\">\n",
              "    <div>\n",
              "<style scoped>\n",
              "    .dataframe tbody tr th:only-of-type {\n",
              "        vertical-align: middle;\n",
              "    }\n",
              "\n",
              "    .dataframe tbody tr th {\n",
              "        vertical-align: top;\n",
              "    }\n",
              "\n",
              "    .dataframe thead th {\n",
              "        text-align: right;\n",
              "    }\n",
              "</style>\n",
              "<table border=\"1\" class=\"dataframe\">\n",
              "  <thead>\n",
              "    <tr style=\"text-align: right;\">\n",
              "      <th></th>\n",
              "      <th>last</th>\n",
              "      <th>last(t-1)</th>\n",
              "      <th>last(t-2)</th>\n",
              "      <th>last(t-3)</th>\n",
              "      <th>last(t-4)</th>\n",
              "      <th>last(t-5)</th>\n",
              "      <th>last(t-6)</th>\n",
              "      <th>last(t-7)</th>\n",
              "      <th>last(t-8)</th>\n",
              "      <th>last(t-9)</th>\n",
              "      <th>last(t-10)</th>\n",
              "    </tr>\n",
              "    <tr>\n",
              "      <th>date_time</th>\n",
              "      <th></th>\n",
              "      <th></th>\n",
              "      <th></th>\n",
              "      <th></th>\n",
              "      <th></th>\n",
              "      <th></th>\n",
              "      <th></th>\n",
              "      <th></th>\n",
              "      <th></th>\n",
              "      <th></th>\n",
              "      <th></th>\n",
              "    </tr>\n",
              "  </thead>\n",
              "  <tbody>\n",
              "    <tr>\n",
              "      <th>2013-12-23</th>\n",
              "      <td>24.6244</td>\n",
              "      <td>24.9355</td>\n",
              "      <td>24.7941</td>\n",
              "      <td>24.7281</td>\n",
              "      <td>24.6244</td>\n",
              "      <td>25.0486</td>\n",
              "      <td>24.6527</td>\n",
              "      <td>24.1813</td>\n",
              "      <td>24.5113</td>\n",
              "      <td>23.4743</td>\n",
              "      <td>23.2386</td>\n",
              "    </tr>\n",
              "    <tr>\n",
              "      <th>2013-12-24</th>\n",
              "      <td>24.7470</td>\n",
              "      <td>24.6244</td>\n",
              "      <td>24.9355</td>\n",
              "      <td>24.7941</td>\n",
              "      <td>24.7281</td>\n",
              "      <td>24.6244</td>\n",
              "      <td>25.0486</td>\n",
              "      <td>24.6527</td>\n",
              "      <td>24.1813</td>\n",
              "      <td>24.5113</td>\n",
              "      <td>23.4743</td>\n",
              "    </tr>\n",
              "    <tr>\n",
              "      <th>2013-12-26</th>\n",
              "      <td>24.5490</td>\n",
              "      <td>24.7470</td>\n",
              "      <td>24.6244</td>\n",
              "      <td>24.9355</td>\n",
              "      <td>24.7941</td>\n",
              "      <td>24.7281</td>\n",
              "      <td>24.6244</td>\n",
              "      <td>25.0486</td>\n",
              "      <td>24.6527</td>\n",
              "      <td>24.1813</td>\n",
              "      <td>24.5113</td>\n",
              "    </tr>\n",
              "    <tr>\n",
              "      <th>2013-12-27</th>\n",
              "      <td>23.5685</td>\n",
              "      <td>24.5490</td>\n",
              "      <td>24.7470</td>\n",
              "      <td>24.6244</td>\n",
              "      <td>24.9355</td>\n",
              "      <td>24.7941</td>\n",
              "      <td>24.7281</td>\n",
              "      <td>24.6244</td>\n",
              "      <td>25.0486</td>\n",
              "      <td>24.6527</td>\n",
              "      <td>24.1813</td>\n",
              "    </tr>\n",
              "    <tr>\n",
              "      <th>2013-12-30</th>\n",
              "      <td>23.3611</td>\n",
              "      <td>23.5685</td>\n",
              "      <td>24.5490</td>\n",
              "      <td>24.7470</td>\n",
              "      <td>24.6244</td>\n",
              "      <td>24.9355</td>\n",
              "      <td>24.7941</td>\n",
              "      <td>24.7281</td>\n",
              "      <td>24.6244</td>\n",
              "      <td>25.0486</td>\n",
              "      <td>24.6527</td>\n",
              "    </tr>\n",
              "    <tr>\n",
              "      <th>...</th>\n",
              "      <td>...</td>\n",
              "      <td>...</td>\n",
              "      <td>...</td>\n",
              "      <td>...</td>\n",
              "      <td>...</td>\n",
              "      <td>...</td>\n",
              "      <td>...</td>\n",
              "      <td>...</td>\n",
              "      <td>...</td>\n",
              "      <td>...</td>\n",
              "      <td>...</td>\n",
              "    </tr>\n",
              "    <tr>\n",
              "      <th>2022-02-18</th>\n",
              "      <td>17.7500</td>\n",
              "      <td>18.1900</td>\n",
              "      <td>18.7400</td>\n",
              "      <td>18.7799</td>\n",
              "      <td>17.4500</td>\n",
              "      <td>17.6000</td>\n",
              "      <td>18.5200</td>\n",
              "      <td>18.8000</td>\n",
              "      <td>18.3000</td>\n",
              "      <td>17.3500</td>\n",
              "      <td>16.4700</td>\n",
              "    </tr>\n",
              "    <tr>\n",
              "      <th>2022-02-22</th>\n",
              "      <td>17.5600</td>\n",
              "      <td>17.7500</td>\n",
              "      <td>18.1900</td>\n",
              "      <td>18.7400</td>\n",
              "      <td>18.7799</td>\n",
              "      <td>17.4500</td>\n",
              "      <td>17.6000</td>\n",
              "      <td>18.5200</td>\n",
              "      <td>18.8000</td>\n",
              "      <td>18.3000</td>\n",
              "      <td>17.3500</td>\n",
              "    </tr>\n",
              "    <tr>\n",
              "      <th>2022-02-23</th>\n",
              "      <td>16.5500</td>\n",
              "      <td>17.5600</td>\n",
              "      <td>17.7500</td>\n",
              "      <td>18.1900</td>\n",
              "      <td>18.7400</td>\n",
              "      <td>18.7799</td>\n",
              "      <td>17.4500</td>\n",
              "      <td>17.6000</td>\n",
              "      <td>18.5200</td>\n",
              "      <td>18.8000</td>\n",
              "      <td>18.3000</td>\n",
              "    </tr>\n",
              "    <tr>\n",
              "      <th>2022-02-24</th>\n",
              "      <td>16.7500</td>\n",
              "      <td>16.5500</td>\n",
              "      <td>17.5600</td>\n",
              "      <td>17.7500</td>\n",
              "      <td>18.1900</td>\n",
              "      <td>18.7400</td>\n",
              "      <td>18.7799</td>\n",
              "      <td>17.4500</td>\n",
              "      <td>17.6000</td>\n",
              "      <td>18.5200</td>\n",
              "      <td>18.8000</td>\n",
              "    </tr>\n",
              "    <tr>\n",
              "      <th>2022-02-25</th>\n",
              "      <td>17.4900</td>\n",
              "      <td>16.7500</td>\n",
              "      <td>16.5500</td>\n",
              "      <td>17.5600</td>\n",
              "      <td>17.7500</td>\n",
              "      <td>18.1900</td>\n",
              "      <td>18.7400</td>\n",
              "      <td>18.7799</td>\n",
              "      <td>17.4500</td>\n",
              "      <td>17.6000</td>\n",
              "      <td>18.5200</td>\n",
              "    </tr>\n",
              "  </tbody>\n",
              "</table>\n",
              "<p>2059 rows × 11 columns</p>\n",
              "</div>\n",
              "    <div class=\"colab-df-buttons\">\n",
              "\n",
              "  <div class=\"colab-df-container\">\n",
              "    <button class=\"colab-df-convert\" onclick=\"convertToInteractive('df-2eb3e4d2-2620-49d8-b641-78f0965dd190')\"\n",
              "            title=\"Convert this dataframe to an interactive table.\"\n",
              "            style=\"display:none;\">\n",
              "\n",
              "  <svg xmlns=\"http://www.w3.org/2000/svg\" height=\"24px\" viewBox=\"0 -960 960 960\">\n",
              "    <path d=\"M120-120v-720h720v720H120Zm60-500h600v-160H180v160Zm220 220h160v-160H400v160Zm0 220h160v-160H400v160ZM180-400h160v-160H180v160Zm440 0h160v-160H620v160ZM180-180h160v-160H180v160Zm440 0h160v-160H620v160Z\"/>\n",
              "  </svg>\n",
              "    </button>\n",
              "\n",
              "  <style>\n",
              "    .colab-df-container {\n",
              "      display:flex;\n",
              "      gap: 12px;\n",
              "    }\n",
              "\n",
              "    .colab-df-convert {\n",
              "      background-color: #E8F0FE;\n",
              "      border: none;\n",
              "      border-radius: 50%;\n",
              "      cursor: pointer;\n",
              "      display: none;\n",
              "      fill: #1967D2;\n",
              "      height: 32px;\n",
              "      padding: 0 0 0 0;\n",
              "      width: 32px;\n",
              "    }\n",
              "\n",
              "    .colab-df-convert:hover {\n",
              "      background-color: #E2EBFA;\n",
              "      box-shadow: 0px 1px 2px rgba(60, 64, 67, 0.3), 0px 1px 3px 1px rgba(60, 64, 67, 0.15);\n",
              "      fill: #174EA6;\n",
              "    }\n",
              "\n",
              "    .colab-df-buttons div {\n",
              "      margin-bottom: 4px;\n",
              "    }\n",
              "\n",
              "    [theme=dark] .colab-df-convert {\n",
              "      background-color: #3B4455;\n",
              "      fill: #D2E3FC;\n",
              "    }\n",
              "\n",
              "    [theme=dark] .colab-df-convert:hover {\n",
              "      background-color: #434B5C;\n",
              "      box-shadow: 0px 1px 3px 1px rgba(0, 0, 0, 0.15);\n",
              "      filter: drop-shadow(0px 1px 2px rgba(0, 0, 0, 0.3));\n",
              "      fill: #FFFFFF;\n",
              "    }\n",
              "  </style>\n",
              "\n",
              "    <script>\n",
              "      const buttonEl =\n",
              "        document.querySelector('#df-2eb3e4d2-2620-49d8-b641-78f0965dd190 button.colab-df-convert');\n",
              "      buttonEl.style.display =\n",
              "        google.colab.kernel.accessAllowed ? 'block' : 'none';\n",
              "\n",
              "      async function convertToInteractive(key) {\n",
              "        const element = document.querySelector('#df-2eb3e4d2-2620-49d8-b641-78f0965dd190');\n",
              "        const dataTable =\n",
              "          await google.colab.kernel.invokeFunction('convertToInteractive',\n",
              "                                                    [key], {});\n",
              "        if (!dataTable) return;\n",
              "\n",
              "        const docLinkHtml = 'Like what you see? Visit the ' +\n",
              "          '<a target=\"_blank\" href=https://colab.research.google.com/notebooks/data_table.ipynb>data table notebook</a>'\n",
              "          + ' to learn more about interactive tables.';\n",
              "        element.innerHTML = '';\n",
              "        dataTable['output_type'] = 'display_data';\n",
              "        await google.colab.output.renderOutput(dataTable, element);\n",
              "        const docLink = document.createElement('div');\n",
              "        docLink.innerHTML = docLinkHtml;\n",
              "        element.appendChild(docLink);\n",
              "      }\n",
              "    </script>\n",
              "  </div>\n",
              "\n",
              "\n",
              "<div id=\"df-5de5ae35-7549-4c16-827a-1b674b3e2f99\">\n",
              "  <button class=\"colab-df-quickchart\" onclick=\"quickchart('df-5de5ae35-7549-4c16-827a-1b674b3e2f99')\"\n",
              "            title=\"Suggest charts.\"\n",
              "            style=\"display:none;\">\n",
              "\n",
              "<svg xmlns=\"http://www.w3.org/2000/svg\" height=\"24px\"viewBox=\"0 0 24 24\"\n",
              "     width=\"24px\">\n",
              "    <g>\n",
              "        <path d=\"M19 3H5c-1.1 0-2 .9-2 2v14c0 1.1.9 2 2 2h14c1.1 0 2-.9 2-2V5c0-1.1-.9-2-2-2zM9 17H7v-7h2v7zm4 0h-2V7h2v10zm4 0h-2v-4h2v4z\"/>\n",
              "    </g>\n",
              "</svg>\n",
              "  </button>\n",
              "\n",
              "<style>\n",
              "  .colab-df-quickchart {\n",
              "      --bg-color: #E8F0FE;\n",
              "      --fill-color: #1967D2;\n",
              "      --hover-bg-color: #E2EBFA;\n",
              "      --hover-fill-color: #174EA6;\n",
              "      --disabled-fill-color: #AAA;\n",
              "      --disabled-bg-color: #DDD;\n",
              "  }\n",
              "\n",
              "  [theme=dark] .colab-df-quickchart {\n",
              "      --bg-color: #3B4455;\n",
              "      --fill-color: #D2E3FC;\n",
              "      --hover-bg-color: #434B5C;\n",
              "      --hover-fill-color: #FFFFFF;\n",
              "      --disabled-bg-color: #3B4455;\n",
              "      --disabled-fill-color: #666;\n",
              "  }\n",
              "\n",
              "  .colab-df-quickchart {\n",
              "    background-color: var(--bg-color);\n",
              "    border: none;\n",
              "    border-radius: 50%;\n",
              "    cursor: pointer;\n",
              "    display: none;\n",
              "    fill: var(--fill-color);\n",
              "    height: 32px;\n",
              "    padding: 0;\n",
              "    width: 32px;\n",
              "  }\n",
              "\n",
              "  .colab-df-quickchart:hover {\n",
              "    background-color: var(--hover-bg-color);\n",
              "    box-shadow: 0 1px 2px rgba(60, 64, 67, 0.3), 0 1px 3px 1px rgba(60, 64, 67, 0.15);\n",
              "    fill: var(--button-hover-fill-color);\n",
              "  }\n",
              "\n",
              "  .colab-df-quickchart-complete:disabled,\n",
              "  .colab-df-quickchart-complete:disabled:hover {\n",
              "    background-color: var(--disabled-bg-color);\n",
              "    fill: var(--disabled-fill-color);\n",
              "    box-shadow: none;\n",
              "  }\n",
              "\n",
              "  .colab-df-spinner {\n",
              "    border: 2px solid var(--fill-color);\n",
              "    border-color: transparent;\n",
              "    border-bottom-color: var(--fill-color);\n",
              "    animation:\n",
              "      spin 1s steps(1) infinite;\n",
              "  }\n",
              "\n",
              "  @keyframes spin {\n",
              "    0% {\n",
              "      border-color: transparent;\n",
              "      border-bottom-color: var(--fill-color);\n",
              "      border-left-color: var(--fill-color);\n",
              "    }\n",
              "    20% {\n",
              "      border-color: transparent;\n",
              "      border-left-color: var(--fill-color);\n",
              "      border-top-color: var(--fill-color);\n",
              "    }\n",
              "    30% {\n",
              "      border-color: transparent;\n",
              "      border-left-color: var(--fill-color);\n",
              "      border-top-color: var(--fill-color);\n",
              "      border-right-color: var(--fill-color);\n",
              "    }\n",
              "    40% {\n",
              "      border-color: transparent;\n",
              "      border-right-color: var(--fill-color);\n",
              "      border-top-color: var(--fill-color);\n",
              "    }\n",
              "    60% {\n",
              "      border-color: transparent;\n",
              "      border-right-color: var(--fill-color);\n",
              "    }\n",
              "    80% {\n",
              "      border-color: transparent;\n",
              "      border-right-color: var(--fill-color);\n",
              "      border-bottom-color: var(--fill-color);\n",
              "    }\n",
              "    90% {\n",
              "      border-color: transparent;\n",
              "      border-bottom-color: var(--fill-color);\n",
              "    }\n",
              "  }\n",
              "</style>\n",
              "\n",
              "  <script>\n",
              "    async function quickchart(key) {\n",
              "      const quickchartButtonEl =\n",
              "        document.querySelector('#' + key + ' button');\n",
              "      quickchartButtonEl.disabled = true;  // To prevent multiple clicks.\n",
              "      quickchartButtonEl.classList.add('colab-df-spinner');\n",
              "      try {\n",
              "        const charts = await google.colab.kernel.invokeFunction(\n",
              "            'suggestCharts', [key], {});\n",
              "      } catch (error) {\n",
              "        console.error('Error during call to suggestCharts:', error);\n",
              "      }\n",
              "      quickchartButtonEl.classList.remove('colab-df-spinner');\n",
              "      quickchartButtonEl.classList.add('colab-df-quickchart-complete');\n",
              "    }\n",
              "    (() => {\n",
              "      let quickchartButtonEl =\n",
              "        document.querySelector('#df-5de5ae35-7549-4c16-827a-1b674b3e2f99 button');\n",
              "      quickchartButtonEl.style.display =\n",
              "        google.colab.kernel.accessAllowed ? 'block' : 'none';\n",
              "    })();\n",
              "  </script>\n",
              "</div>\n",
              "    </div>\n",
              "  </div>\n"
            ]
          },
          "metadata": {},
          "execution_count": 21
        }
      ]
    },
    {
      "cell_type": "markdown",
      "source": [
        "This part was influenced by a youtube video on using pytorch for stock prediction https://www.youtube.com/watch?v=q_HS4s1L8UI"
      ],
      "metadata": {
        "id": "QO504iwhAa3z"
      }
    },
    {
      "cell_type": "markdown",
      "source": [
        "Now we will try to add days. That is 'Monday, Tuesday and so on' as numbers so that the model can comprehend it."
      ],
      "metadata": {
        "id": "FHPg_DkIJYSj"
      }
    },
    {
      "cell_type": "code",
      "source": [
        "#dict_map = {'Monday': 1, 'Tuesday': 2, 'Wednesday': 3, 'Thursday': 4, 'Friday': 5, 'Saturday': 6, 'Sunday': 7}\n",
        "#shifted_df['day'] = shifted_df.index.day_name()\n",
        "#shifted_df['day'].replace(dict_map, inplace = True)\n",
        "#shifted_df"
      ],
      "metadata": {
        "id": "TvCAEx2JjnIQ"
      },
      "execution_count": 22,
      "outputs": []
    },
    {
      "cell_type": "markdown",
      "source": [
        "This code snippet can be used to add a day column to the dataset for making predictions with more information"
      ],
      "metadata": {
        "id": "JxxYh3s5JBNW"
      }
    },
    {
      "cell_type": "code",
      "source": [
        "#Splitting the data in\n",
        "split_index = np.where(shifted_df.index.year == 2020)[0][0]\n",
        "split_index"
      ],
      "metadata": {
        "colab": {
          "base_uri": "https://localhost:8080/"
        },
        "id": "ATb32ZPWKFBE",
        "outputId": "19c340f5-b920-44cd-ddc1-46340d99c4b5"
      },
      "execution_count": 23,
      "outputs": [
        {
          "output_type": "execute_result",
          "data": {
            "text/plain": [
              "1516"
            ]
          },
          "metadata": {},
          "execution_count": 23
        }
      ]
    },
    {
      "cell_type": "markdown",
      "source": [
        "this will be the splitting index for our data."
      ],
      "metadata": {
        "id": "JA9hPevwe9DF"
      }
    },
    {
      "cell_type": "markdown",
      "source": [
        "## Scaling the dataset using minmax scaler"
      ],
      "metadata": {
        "id": "8AmpDXZgJKb-"
      }
    },
    {
      "cell_type": "code",
      "source": [
        "from sklearn.preprocessing import MinMaxScaler\n",
        "scaler = MinMaxScaler(feature_range = (-1, 1))\n",
        "shifted_df = scaler.fit_transform(shifted_df.values)"
      ],
      "metadata": {
        "id": "2E6TRELKPgsr"
      },
      "execution_count": 24,
      "outputs": []
    },
    {
      "cell_type": "markdown",
      "source": [
        "## Transforming from dataframe to workable tensors"
      ],
      "metadata": {
        "id": "mNQAespxJO0N"
      }
    },
    {
      "cell_type": "code",
      "source": [
        "#Preparing the data by converting it to numpy\n",
        "X = shifted_df[:, 1:]\n",
        "y = shifted_df[:, 0] # As we are going to predict only the closing values\n",
        "\n",
        "X.shape, y.shape"
      ],
      "metadata": {
        "colab": {
          "base_uri": "https://localhost:8080/"
        },
        "id": "eNQQmX4Y4SpO",
        "outputId": "340194b2-5085-4e1e-a4f3-dbf6cac6fe51"
      },
      "execution_count": 25,
      "outputs": [
        {
          "output_type": "execute_result",
          "data": {
            "text/plain": [
              "((2059, 10), (2059,))"
            ]
          },
          "metadata": {},
          "execution_count": 25
        }
      ]
    },
    {
      "cell_type": "code",
      "source": [
        "#Now we want the time to go in a decending manner so that the prediction nows the\n",
        "#the coming value is closest to the predicted one\n",
        "X = dc(np.flip(X, axis = 1))\n",
        "X.shape"
      ],
      "metadata": {
        "colab": {
          "base_uri": "https://localhost:8080/"
        },
        "id": "JrASJqYRCyoS",
        "outputId": "4ccadd53-5fbe-4d30-dc27-33e4f1df4e67"
      },
      "execution_count": 26,
      "outputs": [
        {
          "output_type": "execute_result",
          "data": {
            "text/plain": [
              "(2059, 10)"
            ]
          },
          "metadata": {},
          "execution_count": 26
        }
      ]
    },
    {
      "cell_type": "code",
      "source": [
        "X_train = X[:split_index]\n",
        "X_test = X[split_index:]\n",
        "\n",
        "y_train = y[:split_index]\n",
        "y_test = y[split_index:]\n",
        "\n",
        "X_train.shape, X_test.shape, y_train.shape, y_test.shape"
      ],
      "metadata": {
        "colab": {
          "base_uri": "https://localhost:8080/"
        },
        "id": "7g_ODb3WD7HG",
        "outputId": "be181d22-1233-4db7-e0aa-28c95d927a85"
      },
      "execution_count": 27,
      "outputs": [
        {
          "output_type": "execute_result",
          "data": {
            "text/plain": [
              "((1516, 10), (543, 10), (1516,), (543,))"
            ]
          },
          "metadata": {},
          "execution_count": 27
        }
      ]
    },
    {
      "cell_type": "code",
      "source": [
        "#Since LSTMs require another dimensions to keep track of the sequence we will have\n",
        "#add another dimension\n",
        "\n",
        "X_train = X_train.reshape((-1, lookback, 1)) #To account for 5 features\n",
        "X_test = X_test.reshape((-1, lookback, 1))  #To account for 5 features\n",
        "\n",
        "y_train = y_train.reshape((-1, 1))\n",
        "y_test = y_test.reshape((-1, 1))\n",
        "\n",
        "X_train.shape, X_test.shape, y_train.shape, y_test.shape"
      ],
      "metadata": {
        "colab": {
          "base_uri": "https://localhost:8080/"
        },
        "id": "a8MD_xdKEyfc",
        "outputId": "d2431b7e-0aec-456d-e316-5c6056fa237d"
      },
      "execution_count": 28,
      "outputs": [
        {
          "output_type": "execute_result",
          "data": {
            "text/plain": [
              "((1516, 10, 1), (543, 10, 1), (1516, 1), (543, 1))"
            ]
          },
          "metadata": {},
          "execution_count": 28
        }
      ]
    },
    {
      "cell_type": "code",
      "source": [
        "#Wrapping all the data in pytorch tensors\n",
        "X_train = torch.tensor(X_train).float()\n",
        "y_train = torch.tensor(y_train).float()\n",
        "y_test = torch.tensor(y_test).float()\n",
        "X_test = torch.tensor(X_test).float()\n",
        "\n",
        "X_train.shape, X_test.shape, y_train.shape, y_test.shape"
      ],
      "metadata": {
        "colab": {
          "base_uri": "https://localhost:8080/"
        },
        "id": "Ls982SJ_FpFw",
        "outputId": "7c63c0d8-68be-4897-dff6-454e8fdcc304"
      },
      "execution_count": 29,
      "outputs": [
        {
          "output_type": "execute_result",
          "data": {
            "text/plain": [
              "(torch.Size([1516, 10, 1]),\n",
              " torch.Size([543, 10, 1]),\n",
              " torch.Size([1516, 1]),\n",
              " torch.Size([543, 1]))"
            ]
          },
          "metadata": {},
          "execution_count": 29
        }
      ]
    },
    {
      "cell_type": "markdown",
      "source": [
        "## Dataset"
      ],
      "metadata": {
        "id": "Yj6Fx5IFKjG9"
      }
    },
    {
      "cell_type": "markdown",
      "source": [
        "Generally when training models in pytorch. We use datasets rather than just raw tensors. So we will have to make out down dataset for this"
      ],
      "metadata": {
        "id": "yY43u6BDG_gC"
      }
    },
    {
      "cell_type": "code",
      "source": [
        "from torch.utils.data import Dataset\n",
        "\n",
        "#Creating dataset function for wrapping up the pytorch tensors in a format which could then be loaded using dataloaders\n",
        "\n",
        "class TimeSeriesDataset(Dataset):\n",
        "  # Initializes .X and .y for input and output\n",
        "  def __init__(self, X, y):\n",
        "    self.X = X\n",
        "    self.y = y\n",
        "  #Function to get the length of the input\n",
        "  def __len__(self):\n",
        "    return len(self.X)\n",
        "  #To retrive the element stored at ith position\n",
        "  def __getitem__(self, i):\n",
        "    return self.X[i], self.y[i]\n",
        "#Creating the datasets\n",
        "train_dataset = TimeSeriesDataset(X_train, y_train)\n",
        "test_dataset = TimeSeriesDataset(X_test, y_test)\n"
      ],
      "metadata": {
        "id": "im9lUDX6F7jL"
      },
      "execution_count": 30,
      "outputs": []
    },
    {
      "cell_type": "markdown",
      "source": [
        "## DataLoaders"
      ],
      "metadata": {
        "id": "zt4n_QzjIRza"
      }
    },
    {
      "cell_type": "code",
      "source": [
        "# Now after wrapping the tensors in dataset we then wrap them in dataloaders\n",
        "from torch.utils.data import DataLoader\n",
        "# Creating out dataset\n",
        "batch_size = 30\n",
        "train_loader = DataLoader(train_dataset, batch_size = batch_size, shuffle=True)\n",
        "#Since we don't want suffling to happen with the test dataset\n",
        "test_loader = DataLoader(test_dataset, batch_size = batch_size, shuffle=False)"
      ],
      "metadata": {
        "id": "SbPgqRbYH2qc"
      },
      "execution_count": 31,
      "outputs": []
    },
    {
      "cell_type": "markdown",
      "source": [
        "Reference:\n",
        "https://www.educative.io/answers/how-to-build-an-lstm-model-using-pytorch"
      ],
      "metadata": {
        "id": "5_iSrDwiwmB6"
      }
    },
    {
      "cell_type": "code",
      "source": [
        "#Setting the device which will be used for creating the batches\n",
        "device = 'cuda:0' if torch.cuda.is_available() else 'cpu'\n",
        "device"
      ],
      "metadata": {
        "colab": {
          "base_uri": "https://localhost:8080/",
          "height": 36
        },
        "id": "8KxyaqbamphQ",
        "outputId": "59a98e53-fb46-4aef-caa7-0ddad15f28fe"
      },
      "execution_count": 32,
      "outputs": [
        {
          "output_type": "execute_result",
          "data": {
            "text/plain": [
              "'cpu'"
            ],
            "application/vnd.google.colaboratory.intrinsic+json": {
              "type": "string"
            }
          },
          "metadata": {},
          "execution_count": 32
        }
      ]
    },
    {
      "cell_type": "markdown",
      "source": [
        "This code is to let the model know if the gpu(cuda:0) is available or not.\n"
      ],
      "metadata": {
        "id": "L_-0bntKJkqT"
      }
    },
    {
      "cell_type": "markdown",
      "source": [
        "## Creating batches"
      ],
      "metadata": {
        "id": "6Hcm8EaBKoKs"
      }
    },
    {
      "cell_type": "code",
      "source": [
        "#Creating batches\n",
        "for _, batch in enumerate(train_loader):\n",
        "  x_batch, y_batch = batch[0].to(device), batch[1].to(device)\n",
        "  print(x_batch.shape, y_batch.shape) # We are expecting the a batch size of 16 with 7 lookback windows\n",
        "  break                               # While for y_batch it should contain 16 examples containing just one value\n"
      ],
      "metadata": {
        "id": "HGXigeGbwoly",
        "colab": {
          "base_uri": "https://localhost:8080/"
        },
        "outputId": "3371da20-55e7-4593-b5e5-dfe927516198"
      },
      "execution_count": 33,
      "outputs": [
        {
          "output_type": "stream",
          "name": "stdout",
          "text": [
            "torch.Size([30, 10, 1]) torch.Size([30, 1])\n"
          ]
        }
      ]
    },
    {
      "cell_type": "markdown",
      "source": [
        "We can see that the expected shape is observed when printed for the batches created using the dataloaders"
      ],
      "metadata": {
        "id": "AoEfppGbockl"
      }
    },
    {
      "cell_type": "markdown",
      "source": [
        "## Finally we are gonna define a LSTM class using pytorch"
      ],
      "metadata": {
        "id": "n7WGLeaWosZq"
      }
    },
    {
      "cell_type": "code",
      "source": [
        "class LSTMModel(nn.Module):\n",
        "    def __init__(self, input_d, hidden_d, layer_d, output_d):\n",
        "        super(LSTMModel, self).__init__()\n",
        "\n",
        "        self.hidden_dim = hidden_d\n",
        "        # Sequence of hidden layers which are stacked on top of each other\n",
        "        # That is that it takes the input from the lstm prior to it and sends its own output to the next state\n",
        "        self.layer_dim = layer_d # The more of these things that you have the more complexity your model has\n",
        "\n",
        "        # LSTM model\n",
        "        self.lstm = nn.LSTM(input_d, hidden_d, layer_d, batch_first=True)\n",
        "        # batch_first=True (batch_dim, seq_dim, feature_dim)\n",
        "\n",
        "        # Output_d can be one if we want to predict\n",
        "        # the final closing value or more if we want to predict other metrics as well\n",
        "        self.fc = nn.Linear(hidden_d, output_d)\n",
        "\n",
        "    def forward(self, x):\n",
        "        #Batch size  = x.size[0]\n",
        "        #Hidden gate's output\n",
        "        h0 = torch.zeros(self.layer_dim, x.size(0), self.hidden_dim).to(device)\n",
        "        #Central stage values\n",
        "        c0 = torch.zeros(self.layer_dim, x.size(0), self.hidden_dim).to(device)\n",
        "        #Output observed and the updated tuple (hn, cn)\n",
        "        out, (hn, cn) = self.lstm(x, (h0.detach(), c0.detach()))\n",
        "        #Extracting output values\n",
        "        out = self.fc(out[:, -1, :])\n",
        "        return out\n",
        "\n",
        "input_dim = 1 # Number of features (Like closing value, opening values and so)\n",
        "hidden_dim = 14 # The dimensions which we want in the middle there\n",
        "output_dim = 1\n",
        "layer_dim = 2\n",
        "\n",
        "model = LSTMModel(input_dim, hidden_dim, layer_dim, output_dim)\n",
        "model.to(device)\n",
        "model"
      ],
      "metadata": {
        "colab": {
          "base_uri": "https://localhost:8080/"
        },
        "id": "0gXaMGrsobNY",
        "outputId": "9e0432b9-0019-4f5e-d76c-72af3c8eb609"
      },
      "execution_count": 34,
      "outputs": [
        {
          "output_type": "execute_result",
          "data": {
            "text/plain": [
              "LSTMModel(\n",
              "  (lstm): LSTM(1, 14, num_layers=2, batch_first=True)\n",
              "  (fc): Linear(in_features=14, out_features=1, bias=True)\n",
              ")"
            ]
          },
          "metadata": {},
          "execution_count": 34
        }
      ]
    },
    {
      "cell_type": "markdown",
      "source": [
        "We can see that the model that we just created is stored as a pytorch model"
      ],
      "metadata": {
        "id": "pV0_vW-60ob3"
      }
    },
    {
      "cell_type": "markdown",
      "source": [
        "Creating the training loop"
      ],
      "metadata": {
        "id": "M6vinXdd10N7"
      }
    },
    {
      "cell_type": "markdown",
      "source": [
        "## Defining training functions"
      ],
      "metadata": {
        "id": "dYlta6UsJzGJ"
      }
    },
    {
      "cell_type": "code",
      "source": [
        "#Creating a training function\n",
        "def train_1epoch():\n",
        "  model.train(True) # Set the model in training mode\n",
        "  print(f'Epoch: {epoch + 1}') # Print the epoch\n",
        "  running_loss = 0.0 # Start to accumulate this running loss\n",
        "\n",
        "  for batch_index, batch in enumerate(train_loader): #Loop over the train loader\n",
        "    x_batch, y_batch = batch[0].to(device), batch[1].to(device) # From the batch extract X and Y values\n",
        "\n",
        "    output = model(x_batch) # From the model get the output\n",
        "    loss = loss_function(output, y_batch) # Generating the loss by comparing model's output to the ground truth\n",
        "    running_loss += loss.item()\n",
        "\n",
        "    optimizer.zero_grad() #Sets the gradients of all optimized torch.Tensor s to zero\n",
        "    loss.backward() # backwards pass through the loss to calculate the grad\n",
        "    optimizer.step() # Taking a small step to better out our model\n",
        "\n",
        "    if batch_index % 100 == 99:\n",
        "      avg_loss_across_batches = running_loss/100\n",
        "      print('Batch {0}, loss: {1:.3f}'.format(batch_index+1,avg_loss_across_batches))\n",
        "\n",
        "      running_loss = 0.0\n",
        "  print()"
      ],
      "metadata": {
        "id": "QksewV8h26Ee"
      },
      "execution_count": 35,
      "outputs": []
    },
    {
      "cell_type": "code",
      "source": [
        "#Creating a validate function\n",
        "def validate_1epoch():\n",
        "  model.train(False)\n",
        "  running_loss = 0.0\n",
        "\n",
        "  for batch_index, batch in enumerate(test_loader):\n",
        "    x_batch, y_batch = batch[0].to(device), batch[1].to(device)\n",
        "\n",
        "    with torch.no_grad():\n",
        "      output = model(x_batch.float())\n",
        "      loss = loss_function(output, y_batch)\n",
        "      running_loss += loss.item()\n",
        "\n",
        "  avg_loss_across_batches = running_loss / len(test_loader)\n",
        "\n",
        "  print('Val loss: {0:.3f}'.format(avg_loss_across_batches))\n",
        "  print('*************************************************')\n",
        "  print()"
      ],
      "metadata": {
        "id": "gcjGwjtj7Nmu"
      },
      "execution_count": 36,
      "outputs": []
    },
    {
      "cell_type": "markdown",
      "source": [
        "## Training loop"
      ],
      "metadata": {
        "id": "AfbybxR4Jv_o"
      }
    },
    {
      "cell_type": "code",
      "source": [
        "# Using normal ML training loop with learning_rates and all\n",
        "learning_rate = 0.001\n",
        "num_epoch = 70\n",
        "# We use the mean square error to calculate the loss since it is still a regression problem\n",
        "loss_function = nn.MSELoss()\n",
        "# We will be using ADAM optimizer for this training method\n",
        "optimizer = torch.optim.Adam(model.parameters(), lr=learning_rate)\n",
        "\n",
        "for epoch in range(num_epoch):\n",
        "  train_1epoch() #As defined above\n",
        "  validate_1epoch() #As defined above"
      ],
      "metadata": {
        "colab": {
          "base_uri": "https://localhost:8080/"
        },
        "id": "JafxIW-cqES8",
        "outputId": "1b85f963-22c4-4fec-99fb-92531fb71d65"
      },
      "execution_count": 37,
      "outputs": [
        {
          "output_type": "stream",
          "name": "stdout",
          "text": [
            "Epoch: 1\n",
            "\n",
            "Val loss: 0.824\n",
            "*************************************************\n",
            "\n",
            "Epoch: 2\n",
            "\n",
            "Val loss: 0.517\n",
            "*************************************************\n",
            "\n",
            "Epoch: 3\n",
            "\n",
            "Val loss: 0.224\n",
            "*************************************************\n",
            "\n",
            "Epoch: 4\n",
            "\n",
            "Val loss: 0.185\n",
            "*************************************************\n",
            "\n",
            "Epoch: 5\n",
            "\n",
            "Val loss: 0.157\n",
            "*************************************************\n",
            "\n",
            "Epoch: 6\n",
            "\n",
            "Val loss: 0.130\n",
            "*************************************************\n",
            "\n",
            "Epoch: 7\n",
            "\n",
            "Val loss: 0.117\n",
            "*************************************************\n",
            "\n",
            "Epoch: 8\n",
            "\n",
            "Val loss: 0.102\n",
            "*************************************************\n",
            "\n",
            "Epoch: 9\n",
            "\n",
            "Val loss: 0.094\n",
            "*************************************************\n",
            "\n",
            "Epoch: 10\n",
            "\n",
            "Val loss: 0.085\n",
            "*************************************************\n",
            "\n",
            "Epoch: 11\n",
            "\n",
            "Val loss: 0.083\n",
            "*************************************************\n",
            "\n",
            "Epoch: 12\n",
            "\n",
            "Val loss: 0.075\n",
            "*************************************************\n",
            "\n",
            "Epoch: 13\n",
            "\n",
            "Val loss: 0.069\n",
            "*************************************************\n",
            "\n",
            "Epoch: 14\n",
            "\n",
            "Val loss: 0.065\n",
            "*************************************************\n",
            "\n",
            "Epoch: 15\n",
            "\n",
            "Val loss: 0.065\n",
            "*************************************************\n",
            "\n",
            "Epoch: 16\n",
            "\n",
            "Val loss: 0.060\n",
            "*************************************************\n",
            "\n",
            "Epoch: 17\n",
            "\n",
            "Val loss: 0.057\n",
            "*************************************************\n",
            "\n",
            "Epoch: 18\n",
            "\n",
            "Val loss: 0.051\n",
            "*************************************************\n",
            "\n",
            "Epoch: 19\n",
            "\n",
            "Val loss: 0.052\n",
            "*************************************************\n",
            "\n",
            "Epoch: 20\n",
            "\n",
            "Val loss: 0.045\n",
            "*************************************************\n",
            "\n",
            "Epoch: 21\n",
            "\n",
            "Val loss: 0.051\n",
            "*************************************************\n",
            "\n",
            "Epoch: 22\n",
            "\n",
            "Val loss: 0.046\n",
            "*************************************************\n",
            "\n",
            "Epoch: 23\n",
            "\n",
            "Val loss: 0.046\n",
            "*************************************************\n",
            "\n",
            "Epoch: 24\n",
            "\n",
            "Val loss: 0.043\n",
            "*************************************************\n",
            "\n",
            "Epoch: 25\n",
            "\n",
            "Val loss: 0.037\n",
            "*************************************************\n",
            "\n",
            "Epoch: 26\n",
            "\n",
            "Val loss: 0.040\n",
            "*************************************************\n",
            "\n",
            "Epoch: 27\n",
            "\n",
            "Val loss: 0.036\n",
            "*************************************************\n",
            "\n",
            "Epoch: 28\n",
            "\n",
            "Val loss: 0.035\n",
            "*************************************************\n",
            "\n",
            "Epoch: 29\n",
            "\n",
            "Val loss: 0.036\n",
            "*************************************************\n",
            "\n",
            "Epoch: 30\n",
            "\n",
            "Val loss: 0.031\n",
            "*************************************************\n",
            "\n",
            "Epoch: 31\n",
            "\n",
            "Val loss: 0.031\n",
            "*************************************************\n",
            "\n",
            "Epoch: 32\n",
            "\n",
            "Val loss: 0.027\n",
            "*************************************************\n",
            "\n",
            "Epoch: 33\n",
            "\n",
            "Val loss: 0.029\n",
            "*************************************************\n",
            "\n",
            "Epoch: 34\n",
            "\n",
            "Val loss: 0.027\n",
            "*************************************************\n",
            "\n",
            "Epoch: 35\n",
            "\n",
            "Val loss: 0.025\n",
            "*************************************************\n",
            "\n",
            "Epoch: 36\n",
            "\n",
            "Val loss: 0.026\n",
            "*************************************************\n",
            "\n",
            "Epoch: 37\n",
            "\n",
            "Val loss: 0.027\n",
            "*************************************************\n",
            "\n",
            "Epoch: 38\n",
            "\n",
            "Val loss: 0.025\n",
            "*************************************************\n",
            "\n",
            "Epoch: 39\n",
            "\n",
            "Val loss: 0.022\n",
            "*************************************************\n",
            "\n",
            "Epoch: 40\n",
            "\n",
            "Val loss: 0.022\n",
            "*************************************************\n",
            "\n",
            "Epoch: 41\n",
            "\n",
            "Val loss: 0.021\n",
            "*************************************************\n",
            "\n",
            "Epoch: 42\n",
            "\n",
            "Val loss: 0.020\n",
            "*************************************************\n",
            "\n",
            "Epoch: 43\n",
            "\n",
            "Val loss: 0.018\n",
            "*************************************************\n",
            "\n",
            "Epoch: 44\n",
            "\n",
            "Val loss: 0.020\n",
            "*************************************************\n",
            "\n",
            "Epoch: 45\n",
            "\n",
            "Val loss: 0.020\n",
            "*************************************************\n",
            "\n",
            "Epoch: 46\n",
            "\n",
            "Val loss: 0.018\n",
            "*************************************************\n",
            "\n",
            "Epoch: 47\n",
            "\n",
            "Val loss: 0.015\n",
            "*************************************************\n",
            "\n",
            "Epoch: 48\n",
            "\n",
            "Val loss: 0.018\n",
            "*************************************************\n",
            "\n",
            "Epoch: 49\n",
            "\n",
            "Val loss: 0.019\n",
            "*************************************************\n",
            "\n",
            "Epoch: 50\n",
            "\n",
            "Val loss: 0.017\n",
            "*************************************************\n",
            "\n",
            "Epoch: 51\n",
            "\n",
            "Val loss: 0.016\n",
            "*************************************************\n",
            "\n",
            "Epoch: 52\n",
            "\n",
            "Val loss: 0.016\n",
            "*************************************************\n",
            "\n",
            "Epoch: 53\n",
            "\n",
            "Val loss: 0.019\n",
            "*************************************************\n",
            "\n",
            "Epoch: 54\n",
            "\n",
            "Val loss: 0.014\n",
            "*************************************************\n",
            "\n",
            "Epoch: 55\n",
            "\n",
            "Val loss: 0.016\n",
            "*************************************************\n",
            "\n",
            "Epoch: 56\n",
            "\n",
            "Val loss: 0.015\n",
            "*************************************************\n",
            "\n",
            "Epoch: 57\n",
            "\n",
            "Val loss: 0.014\n",
            "*************************************************\n",
            "\n",
            "Epoch: 58\n",
            "\n",
            "Val loss: 0.015\n",
            "*************************************************\n",
            "\n",
            "Epoch: 59\n",
            "\n",
            "Val loss: 0.016\n",
            "*************************************************\n",
            "\n",
            "Epoch: 60\n",
            "\n",
            "Val loss: 0.015\n",
            "*************************************************\n",
            "\n",
            "Epoch: 61\n",
            "\n",
            "Val loss: 0.014\n",
            "*************************************************\n",
            "\n",
            "Epoch: 62\n",
            "\n",
            "Val loss: 0.014\n",
            "*************************************************\n",
            "\n",
            "Epoch: 63\n",
            "\n",
            "Val loss: 0.013\n",
            "*************************************************\n",
            "\n",
            "Epoch: 64\n",
            "\n",
            "Val loss: 0.013\n",
            "*************************************************\n",
            "\n",
            "Epoch: 65\n",
            "\n",
            "Val loss: 0.013\n",
            "*************************************************\n",
            "\n",
            "Epoch: 66\n",
            "\n",
            "Val loss: 0.011\n",
            "*************************************************\n",
            "\n",
            "Epoch: 67\n",
            "\n",
            "Val loss: 0.014\n",
            "*************************************************\n",
            "\n",
            "Epoch: 68\n",
            "\n",
            "Val loss: 0.011\n",
            "*************************************************\n",
            "\n",
            "Epoch: 69\n",
            "\n",
            "Val loss: 0.013\n",
            "*************************************************\n",
            "\n",
            "Epoch: 70\n",
            "\n",
            "Val loss: 0.013\n",
            "*************************************************\n",
            "\n"
          ]
        }
      ]
    },
    {
      "cell_type": "markdown",
      "source": [
        "Since our model has already seen this data it is able to predict it very nicely.\n",
        "\n",
        "Although this data is scaled so now lets convert it back to its initial state"
      ],
      "metadata": {
        "id": "AGJ7FheQM_21"
      }
    },
    {
      "cell_type": "markdown",
      "source": [
        "## Plotting our findings for the same"
      ],
      "metadata": {
        "id": "4-C_pfJ_J6w6"
      }
    },
    {
      "cell_type": "code",
      "source": [
        "with torch.no_grad():\n",
        "  predicted = model(X_train.to(device)).to('cpu').numpy()\n",
        "\n",
        "plt.plot(y_train, label='Actual Close')\n",
        "plt.plot(predicted, label='Predicted Close')\n",
        "plt.xlabel('Time')\n",
        "plt.ylabel('Close')\n",
        "plt.legend()\n",
        "plt.show()"
      ],
      "metadata": {
        "colab": {
          "base_uri": "https://localhost:8080/",
          "height": 451
        },
        "id": "LgD4bPbMV30E",
        "outputId": "f6ddf93c-842d-4ad0-f34c-65fb083c4522"
      },
      "execution_count": 38,
      "outputs": [
        {
          "output_type": "display_data",
          "data": {
            "text/plain": [
              "<Figure size 640x480 with 1 Axes>"
            ],
            "image/png": "[encoded data removed]"
          },
          "metadata": {}
        }
      ]
    },
    {
      "cell_type": "code",
      "source": [
        "train_predictions = predicted.flatten()\n",
        "# For X train we calculate the inverse transfrom of scaler\n",
        "x = np.zeros((X_train.shape[0], lookback+1))\n",
        "x[:,0] = train_predictions\n",
        "x = scaler.inverse_transform(x)\n",
        "\n",
        "train_predictions = dc(x[:,0])\n",
        "train_predictions"
      ],
      "metadata": {
        "colab": {
          "base_uri": "https://localhost:8080/"
        },
        "id": "QBJGz6HcMxwj",
        "outputId": "9f0c6e56-0486-4607-f95c-b3e5a655519b"
      },
      "execution_count": 39,
      "outputs": [
        {
          "output_type": "execute_result",
          "data": {
            "text/plain": [
              "array([25.38841294, 25.20605849, 25.24277558, ..., 29.75376499,\n",
              "       28.74087707, 28.51076636])"
            ]
          },
          "metadata": {},
          "execution_count": 39
        }
      ]
    },
    {
      "cell_type": "code",
      "source": [
        "x = np.zeros((X_train.shape[0], lookback+1))\n",
        "x[:,0] = y_train.flatten() # first columns is gonna be the y_train\n",
        "x = scaler.inverse_transform(x) #Converting it back to its initial position\n",
        "\n",
        "new_y_train = dc(x[:, 0]) # storing the deepcopy of the updated first column\n",
        "new_y_train"
      ],
      "metadata": {
        "id": "ygGKzxo4S7CI",
        "colab": {
          "base_uri": "https://localhost:8080/"
        },
        "outputId": "3addaf06-7896-477f-a147-475f3deed118"
      },
      "execution_count": 40,
      "outputs": [
        {
          "output_type": "execute_result",
          "data": {
            "text/plain": [
              "array([24.62440007, 24.74700006, 24.54899989, ..., 28.26549982,\n",
              "       28.24560004, 28.57439987])"
            ]
          },
          "metadata": {},
          "execution_count": 40
        }
      ]
    },
    {
      "cell_type": "code",
      "source": [
        "with torch.no_grad():\n",
        "  predicted = model(X_train.to(device)).to('cpu').numpy()\n",
        "\n",
        "plt.plot(new_y_train, label='Actual Close')\n",
        "plt.plot(train_predictions, label='Predicted Close')\n",
        "plt.xlabel('Time')\n",
        "plt.ylabel('Close')\n",
        "plt.legend()\n",
        "plt.show()"
      ],
      "metadata": {
        "id": "N-K_UssaTeFj",
        "colab": {
          "base_uri": "https://localhost:8080/",
          "height": 451
        },
        "outputId": "016fccb3-f11c-472a-ceed-36b8ec3984aa"
      },
      "execution_count": 41,
      "outputs": [
        {
          "output_type": "display_data",
          "data": {
            "text/plain": [
              "<Figure size 640x480 with 1 Axes>"
            ],
            "image/png": "[encoded data removed]"
          },
          "metadata": {}
        }
      ]
    },
    {
      "cell_type": "code",
      "source": [
        "# Since we are not using .no_grad() here we will detatch it from the main graph then put it on cpu and flatten it\n",
        "test_predictions = model(X_test.to(device)).detach().cpu().numpy().flatten()\n",
        "\n",
        "x = np.zeros((X_test.shape[0], lookback+1))\n",
        "x[:, 0] = test_predictions\n",
        "x = scaler.inverse_transform(x)\n",
        "\n",
        "test_predictions = dc(x[:, 0])"
      ],
      "metadata": {
        "id": "SO5GgofUT2BD"
      },
      "execution_count": 42,
      "outputs": []
    },
    {
      "cell_type": "code",
      "source": [
        "# Now calculating the ground truth of the proper scale (y_test)\n",
        "\n",
        "x = np.zeros((X_test.shape[0], lookback+1))\n",
        "x[:, 0] = y_test.flatten()\n",
        "x = scaler.inverse_transform(x)\n",
        "\n",
        "new_ytest = dc(x[:,0])"
      ],
      "metadata": {
        "id": "-b1i3TMbU0vR"
      },
      "execution_count": 43,
      "outputs": []
    },
    {
      "cell_type": "code",
      "source": [
        "# Final graph\n",
        "\n",
        "plt.plot(new_ytest, label='Actual Close')\n",
        "plt.plot(test_predictions, label='Predicted Close')\n",
        "plt.xlabel('Time')\n",
        "plt.ylabel('Close')\n",
        "plt.legend()\n",
        "plt.show()"
      ],
      "metadata": {
        "id": "5LYnAJG1VRZ1",
        "colab": {
          "base_uri": "https://localhost:8080/",
          "height": 451
        },
        "outputId": "eba79585-5122-4f7e-e720-23ebcde288a7"
      },
      "execution_count": 44,
      "outputs": [
        {
          "output_type": "display_data",
          "data": {
            "text/plain": [
              "<Figure size 640x480 with 1 Axes>"
            ],
            "image/png": "[encoded data removed]"
          },
          "metadata": {}
        }
      ]
    },
    {
      "cell_type": "markdown",
      "source": [
        "## Defining a simple trading module"
      ],
      "metadata": {
        "id": "uowEmMC2J_DU"
      }
    },
    {
      "cell_type": "code",
      "source": [
        "#Since we will be making small fish trades as to not dissrupt the trend too much\n",
        "exchange_limit = 2\n",
        "stocks = 100 #Initial starting stock which we had before starting trading"
      ],
      "metadata": {
        "id": "ZPmVA3SH5FPa"
      },
      "execution_count": 45,
      "outputs": []
    },
    {
      "cell_type": "code",
      "source": [
        "profit = 0 #Profit variable\n",
        "buy = np.zeros(len(new_ytest))\n",
        "hold = np.zeros(len(new_ytest))\n",
        "short = np.zeros(len(new_ytest))\n",
        "threshold = 0.15 # For the transaction costs of making a transaction in stock market\n",
        "for i in range(len(test_predictions)-1):\n",
        "  if test_predictions[i+1] - test_predictions[i] > threshold:\n",
        "    buy[i] = True\n",
        "    hold[i] = False\n",
        "    short[i] = False\n",
        "    stocks += exchange_limit\n",
        "    profit -= 2*new_ytest[i]*1.05\n",
        "  elif test_predictions[i+1] - test_predictions[i] < -threshold and stocks > exchange_limit:\n",
        "    buy[i] = False\n",
        "    short[i] = True\n",
        "    hold[i] = False\n",
        "    profit += 2*new_ytest[i]*0.95\n",
        "    stocks -= exchange_limit\n",
        "  else:\n",
        "    hold[i] = True\n",
        "    buy[i] = False\n",
        "    short[i] = False\n",
        "\n"
      ],
      "metadata": {
        "id": "D7nlV34TW3hd"
      },
      "execution_count": 46,
      "outputs": []
    },
    {
      "cell_type": "code",
      "source": [
        "# For buy and hold strategy\n",
        "buy_hold = 100*(new_ytest[-1] - new_ytest[0])\n",
        "print(\"Profit made from buy and hold strategy will be\", buy_hold)\n",
        "print(\"Profit made after using the model created will be\", profit)"
      ],
      "metadata": {
        "colab": {
          "base_uri": "https://localhost:8080/"
        },
        "id": "MeL8xpEVHd9o",
        "outputId": "785877b7-bac4-4b26-ffa8-e22ccd03cea6"
      },
      "execution_count": 47,
      "outputs": [
        {
          "output_type": "stream",
          "name": "stdout",
          "text": [
            "Profit made from buy and hold strategy will be -1150.2900769564512\n",
            "Profit made after using the model created will be 177.27324925477447\n"
          ]
        }
      ]
    },
    {
      "cell_type": "markdown",
      "source": [
        "So we can see that we make a profit when we use the model that we just created when compared to the buy and hold strategy"
      ],
      "metadata": {
        "id": "_Dv3axSNHQFt"
      }
    },
    {
      "cell_type": "markdown",
      "source": [
        "# References:\n",
        "[1] https://pypi.org/project/mplfinance/\n",
        "\n",
        "[2] https://www.youtube.com/watch?v=q_HS4s1L8UI\n",
        "\n",
        "[3] https://www.educative.io/answers/how-to-build-an-lstm-model-using-pytorch\n",
        "\n",
        "[4] https://colab.research.google.com/corgiredirector?site=https%3A%2F%2Fcolah.github.io%2Fposts%2F2015-08-Understanding-LSTMs%2F\n",
        "\n",
        "- I've used google bard and chatgpt to understand some of the functions that I have used and to understand some concepts like buy sell spread and what is to be expected of the buy sell module for example."
      ],
      "metadata": {
        "id": "LTOYGaMHIJOW"
      }
    }
  ]
}